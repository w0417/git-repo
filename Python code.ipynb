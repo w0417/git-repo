{
  "nbformat": 4,
  "nbformat_minor": 0,
  "metadata": {
    "colab": {
      "provenance": []
    },
    "kernelspec": {
      "name": "python3",
      "display_name": "Python 3"
    },
    "language_info": {
      "name": "python"
    }
  },
  "cells": [
    {
      "cell_type": "code",
      "execution_count": null,
      "metadata": {
        "colab": {
          "base_uri": "https://localhost:8080/"
        },
        "id": "4yspboXQsUWX",
        "outputId": "2057ba97-aba1-4656-c06e-5301fb736c10"
      },
      "outputs": [
        {
          "output_type": "stream",
          "name": "stdout",
          "text": [
            "12\n"
          ]
        }
      ],
      "source": [
        "# 1-1\n",
        "import pandas as pd\n",
        "\n",
        "df = pd.read_csv('/edu_bigdata_imp1.csv', encoding='big5', low_memory=False)\n",
        "\n",
        "df_filtered= df[df['PseudoID']==39]\n",
        "\n",
        "unique_values = df_filtered['dp001_review_sn'].unique()\n",
        "\n",
        "print(len(unique_values))"
      ]
    },
    {
      "cell_type": "code",
      "source": [
        "# 1-2\n",
        "import pandas as pd\n",
        "df = pd.read_csv('/edu_bigdata_imp1.csv',encoding='big5',low_memory=False)\n",
        "df_filtered = df[df['PseudoID']==39]\n",
        "df_filtered = df_filtered.dropna(subset=['dp001_question_sn'])\n",
        "unique_values = df_filtered['dp001_question_sn'].unique()\n",
        "\n",
        "print(len(unique_values))"
      ],
      "metadata": {
        "colab": {
          "base_uri": "https://localhost:8080/"
        },
        "id": "pm6Zy8nFwyKy",
        "outputId": "67659d3b-be8f-47be-cff9-019c55745266"
      },
      "execution_count": null,
      "outputs": [
        {
          "output_type": "stream",
          "name": "stdout",
          "text": [
            "3\n"
          ]
        }
      ]
    },
    {
      "cell_type": "code",
      "source": [
        "# 2-1\n",
        "import pandas as pd\n",
        "df = pd.read_csv('/edu_bigdata_imp1.csv',encoding='big5',low_memory=False)\n",
        "df_filtered = df[df['PseudoID']==281]\n",
        "df_filtered = df_filtered.dropna(subset=['dp001_indicator'])\n",
        "unique_values = df_filtered[['dp001_video_item_sn','dp001_indicator']].drop_duplicates()\n",
        "unique_values['dp001_video_item_sn'] = unique_values['dp001_video_item_sn'].astype(int)\n",
        "\n",
        "print(unique_values.values)\n",
        "\n",
        "\n"
      ],
      "metadata": {
        "colab": {
          "base_uri": "https://localhost:8080/"
        },
        "id": "c9_d4xWty5uh",
        "outputId": "1e8ba61e-7718-4735-d978-b4fd0198bf1a"
      },
      "execution_count": 40,
      "outputs": [
        {
          "output_type": "stream",
          "name": "stdout",
          "text": [
            "[[513 '111-3a-01']\n",
            " [10044 '111-3a-02']\n",
            " [1087 '5-n-10-S01']]\n"
          ]
        }
      ]
    },
    {
      "cell_type": "code",
      "source": [
        "# 2-2\n",
        "import pandas as pd\n",
        "df = pd.read_csv('/edu_bigdata_imp1.csv',encoding='big5',low_memory=False)\n",
        "df_filtered = df[df['PseudoID']==281]\n",
        "df_filtered = df_filtered.dropna(subset=['dp001_prac_score_rate'])\n",
        "df_score_rate_100 = df_filtered[df_filtered['dp001_prac_score_rate']==100]\n",
        "\n",
        "print(len(df_score_rate_100))"
      ],
      "metadata": {
        "colab": {
          "base_uri": "https://localhost:8080/"
        },
        "id": "J3431MqudODM",
        "outputId": "5a314dda-1e59-432f-d418-f535f5e41753"
      },
      "execution_count": 16,
      "outputs": [
        {
          "output_type": "stream",
          "name": "stdout",
          "text": [
            "346\n"
          ]
        }
      ]
    },
    {
      "cell_type": "code",
      "source": [
        "# 3-1\n",
        "import pandas as pd\n",
        "df = pd.read_csv('/edu_bigdata_imp1.csv',encoding='big5',low_memory=False)\n",
        "df_filtered = df[df['PseudoID']==71]\n",
        "df_filtered = df_filtered.dropna(subset=['dp001_record_plus_view_action'])\n",
        "df_paused = df_filtered[df_filtered['dp001_record_plus_view_action']==\"paused\"]\n",
        "\n",
        "print(len(df_paused))"
      ],
      "metadata": {
        "colab": {
          "base_uri": "https://localhost:8080/"
        },
        "id": "epc2iHReeFt2",
        "outputId": "2696f1df-1552-4b3c-a7d2-35b71b1b9f68"
      },
      "execution_count": 17,
      "outputs": [
        {
          "output_type": "stream",
          "name": "stdout",
          "text": [
            "578\n"
          ]
        }
      ]
    },
    {
      "cell_type": "code",
      "source": [
        "# 3-2\n",
        "import pandas as pd\n",
        "df = pd.read_csv('/edu_bigdata_imp1.csv',encoding='big5',low_memory=False)\n",
        "df_filtered = df[df['PseudoID']==71]\n",
        "df_date = pd.to_datetime(df_filtered['dp001_review_start_time']).dt.date\n",
        "unique_values = df_date.unique()\n",
        "\n",
        "print(unique_values)\n"
      ],
      "metadata": {
        "colab": {
          "base_uri": "https://localhost:8080/"
        },
        "id": "wHQUttx7e6b4",
        "outputId": "daa6b939-620f-4683-a802-7abc8808b4b6"
      },
      "execution_count": 15,
      "outputs": [
        {
          "output_type": "stream",
          "name": "stdout",
          "text": [
            "[datetime.date(2022, 8, 19) datetime.date(2022, 9, 16)\n",
            " datetime.date(2022, 8, 21)]\n"
          ]
        }
      ]
    },
    {
      "cell_type": "code",
      "source": [
        "# 4-1\n",
        "import pandas as pd\n",
        "df = pd.read_csv('/edu_bigdata_imp1.csv',encoding='big5',low_memory=False)\n",
        "df_filtered = df['dp001_review_sn']\n",
        "counter = df_filtered.value_counts()\n",
        "\n",
        "print(counter.idxmax().astype(int),counter.max())"
      ],
      "metadata": {
        "colab": {
          "base_uri": "https://localhost:8080/"
        },
        "id": "d4PMTVeAiEfS",
        "outputId": "2f9c0596-a94a-4515-ae85-fd8407d66d75"
      },
      "execution_count": 34,
      "outputs": [
        {
          "output_type": "stream",
          "name": "stdout",
          "text": [
            "11043810 12410\n"
          ]
        }
      ]
    },
    {
      "cell_type": "code",
      "source": [
        "# 4-2\n",
        "import pandas as pd\n",
        "df = pd.read_csv('/edu_bigdata_imp1.csv',encoding='big5',low_memory=False)\n",
        "df_filtered = df[df['dp002_extensions_alignment']==\"[\\\"十二年國民基本教育類\\\"]\"]\n",
        "\n",
        "print(len(df_filtered))"
      ],
      "metadata": {
        "colab": {
          "base_uri": "https://localhost:8080/"
        },
        "id": "36PMquPTpI3L",
        "outputId": "f4769a0c-1c63-46c9-aa0a-4164eb76b324"
      },
      "execution_count": 45,
      "outputs": [
        {
          "output_type": "stream",
          "name": "stdout",
          "text": [
            "229\n"
          ]
        }
      ]
    },
    {
      "cell_type": "code",
      "source": [
        "# 4-3\n",
        "import pandas as pd\n",
        "df = pd.read_csv('/edu_bigdata_imp1.csv',encoding='big5',low_memory=False)\n",
        "df_filtered = df['dp002_verb_display_zh_TW']\n",
        "counter = df_filtered.value_counts()\n",
        "\n",
        "print(counter.head(3).index)"
      ],
      "metadata": {
        "colab": {
          "base_uri": "https://localhost:8080/"
        },
        "id": "-Hp1DRH-q9RH",
        "outputId": "c00cb9aa-b67b-4a03-cca1-8449f74144b4"
      },
      "execution_count": 53,
      "outputs": [
        {
          "output_type": "stream",
          "name": "stdout",
          "text": [
            "Index(['查看', '查詢參考', '下載'], dtype='object')\n"
          ]
        }
      ]
    },
    {
      "cell_type": "code",
      "source": [
        "# 4-4\n",
        "import pandas as pd\n",
        "df = pd.read_csv('/edu_bigdata_imp1.csv',encoding='big5',low_memory=False)\n",
        "df_filtered = df[df['dp002_extensions_alignment']==\"[\\\"校園職業安全\\\"]\"]\n",
        "\n",
        "print(len(df_filtered))"
      ],
      "metadata": {
        "colab": {
          "base_uri": "https://localhost:8080/"
        },
        "id": "3QyziemKspy2",
        "outputId": "05db5e7f-d8a1-4a37-90c9-c81f4a051c0e"
      },
      "execution_count": 54,
      "outputs": [
        {
          "output_type": "stream",
          "name": "stdout",
          "text": [
            "5375\n"
          ]
        }
      ]
    }
  ]
}